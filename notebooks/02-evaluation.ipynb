{
 "cells": [
  {
   "cell_type": "code",
   "execution_count": 3,
   "metadata": {},
   "outputs": [],
   "source": [
    "import torch\n",
    "import numpy as np\n",
    "import pandas as pd\n",
    "import os\n",
    "import sys\n",
    "import glob\n",
    "\n",
    "import matplotlib.pyplot as plt\n",
    "import seaborn as sns"
   ]
  },
  {
   "cell_type": "code",
   "execution_count": 2,
   "metadata": {},
   "outputs": [],
   "source": [
    "sys.path.append('..')\n",
    "from importlib import reload\n",
    "import utils"
   ]
  },
  {
   "cell_type": "code",
   "execution_count": null,
   "metadata": {},
   "outputs": [],
   "source": []
  },
  {
   "cell_type": "code",
   "execution_count": 46,
   "metadata": {},
   "outputs": [
    {
     "data": {
      "text/html": [
       "<div>\n",
       "<style scoped>\n",
       "    .dataframe tbody tr th:only-of-type {\n",
       "        vertical-align: middle;\n",
       "    }\n",
       "\n",
       "    .dataframe tbody tr th {\n",
       "        vertical-align: top;\n",
       "    }\n",
       "\n",
       "    .dataframe thead th {\n",
       "        text-align: right;\n",
       "    }\n",
       "</style>\n",
       "<table border=\"1\" class=\"dataframe\">\n",
       "  <thead>\n",
       "    <tr style=\"text-align: right;\">\n",
       "      <th></th>\n",
       "      <th>id</th>\n",
       "      <th>corr</th>\n",
       "    </tr>\n",
       "  </thead>\n",
       "  <tbody>\n",
       "    <tr>\n",
       "      <th>0</th>\n",
       "      <td>1818</td>\n",
       "      <td>0.860727</td>\n",
       "    </tr>\n",
       "    <tr>\n",
       "      <th>1</th>\n",
       "      <td>1832</td>\n",
       "      <td>0.884632</td>\n",
       "    </tr>\n",
       "    <tr>\n",
       "      <th>2</th>\n",
       "      <td>1845</td>\n",
       "      <td>0.880637</td>\n",
       "    </tr>\n",
       "    <tr>\n",
       "      <th>3</th>\n",
       "      <td>1850</td>\n",
       "      <td>0.780791</td>\n",
       "    </tr>\n",
       "    <tr>\n",
       "      <th>4</th>\n",
       "      <td>1856</td>\n",
       "      <td>0.835407</td>\n",
       "    </tr>\n",
       "  </tbody>\n",
       "</table>\n",
       "</div>"
      ],
      "text/plain": [
       "     id      corr\n",
       "0  1818  0.860727\n",
       "1  1832  0.884632\n",
       "2  1845  0.880637\n",
       "3  1850  0.780791\n",
       "4  1856  0.835407"
      ]
     },
     "execution_count": 46,
     "metadata": {},
     "output_type": "execute_result"
    }
   ],
   "source": [
    "#baseline = utils.get_baseline_correlation('../data/tournaments_2012-03-16_2020-03-16.csv')\n",
    "#baseline.to_csv('../data/baseline.csv')\n",
    "baseline = pd.read_csv('../data/baseline.csv', index_col=0).dropna()\n",
    "baseline.head()"
   ]
  },
  {
   "cell_type": "code",
   "execution_count": 74,
   "metadata": {},
   "outputs": [
    {
     "data": {
      "text/plain": [
       "['../checkpoints/model_momentum=0_wd=0_logsigmoid.csv',\n",
       " '../checkpoints/model_head_wd=1e-12.csv',\n",
       " '../checkpoints/model_momentum=0.9_wd=0.csv',\n",
       " '../checkpoints/model_momentum=0_wd=0.csv',\n",
       " '../checkpoints/model_fixed_head.csv',\n",
       " '../checkpoints/model_head_wd=0.csv',\n",
       " '../checkpoints/model_head_wd=1e-4.csv',\n",
       " '../checkpoints/model.csv']"
      ]
     },
     "execution_count": 74,
     "metadata": {},
     "output_type": "execute_result"
    }
   ],
   "source": [
    "histories = glob.glob('../checkpoints/*.csv')\n",
    "histories"
   ]
  },
  {
   "cell_type": "code",
   "execution_count": 88,
   "metadata": {},
   "outputs": [
    {
     "name": "stdout",
     "output_type": "stream",
     "text": [
      "3594\n"
     ]
    },
    {
     "data": {
      "text/html": [
       "<div>\n",
       "<style scoped>\n",
       "    .dataframe tbody tr th:only-of-type {\n",
       "        vertical-align: middle;\n",
       "    }\n",
       "\n",
       "    .dataframe tbody tr th {\n",
       "        vertical-align: top;\n",
       "    }\n",
       "\n",
       "    .dataframe thead th {\n",
       "        text-align: right;\n",
       "    }\n",
       "</style>\n",
       "<table border=\"1\" class=\"dataframe\">\n",
       "  <thead>\n",
       "    <tr style=\"text-align: right;\">\n",
       "      <th></th>\n",
       "      <th>epoch</th>\n",
       "      <th>tournament_id</th>\n",
       "      <th>loss</th>\n",
       "      <th>correlation_before</th>\n",
       "      <th>correlation_after</th>\n",
       "      <th>id</th>\n",
       "      <th>corr</th>\n",
       "    </tr>\n",
       "  </thead>\n",
       "  <tbody>\n",
       "    <tr>\n",
       "      <th>0</th>\n",
       "      <td>1</td>\n",
       "      <td>1832</td>\n",
       "      <td>0.984805</td>\n",
       "      <td>0.758579</td>\n",
       "      <td>0.919861</td>\n",
       "      <td>1832</td>\n",
       "      <td>0.884632</td>\n",
       "    </tr>\n",
       "    <tr>\n",
       "      <th>1</th>\n",
       "      <td>2</td>\n",
       "      <td>1845</td>\n",
       "      <td>0.960634</td>\n",
       "      <td>0.691458</td>\n",
       "      <td>0.833804</td>\n",
       "      <td>1845</td>\n",
       "      <td>0.880637</td>\n",
       "    </tr>\n",
       "    <tr>\n",
       "      <th>2</th>\n",
       "      <td>3</td>\n",
       "      <td>1850</td>\n",
       "      <td>0.005634</td>\n",
       "      <td>0.694859</td>\n",
       "      <td>0.712984</td>\n",
       "      <td>1850</td>\n",
       "      <td>0.780791</td>\n",
       "    </tr>\n",
       "    <tr>\n",
       "      <th>3</th>\n",
       "      <td>4</td>\n",
       "      <td>1856</td>\n",
       "      <td>0.950896</td>\n",
       "      <td>0.589185</td>\n",
       "      <td>0.663957</td>\n",
       "      <td>1856</td>\n",
       "      <td>0.835407</td>\n",
       "    </tr>\n",
       "    <tr>\n",
       "      <th>4</th>\n",
       "      <td>5</td>\n",
       "      <td>1897</td>\n",
       "      <td>0.008172</td>\n",
       "      <td>0.368499</td>\n",
       "      <td>0.361246</td>\n",
       "      <td>1897</td>\n",
       "      <td>0.784087</td>\n",
       "    </tr>\n",
       "  </tbody>\n",
       "</table>\n",
       "</div>"
      ],
      "text/plain": [
       "   epoch  tournament_id      loss  correlation_before  correlation_after  \\\n",
       "0      1           1832  0.984805            0.758579           0.919861   \n",
       "1      2           1845  0.960634            0.691458           0.833804   \n",
       "2      3           1850  0.005634            0.694859           0.712984   \n",
       "3      4           1856  0.950896            0.589185           0.663957   \n",
       "4      5           1897  0.008172            0.368499           0.361246   \n",
       "\n",
       "     id      corr  \n",
       "0  1832  0.884632  \n",
       "1  1845  0.880637  \n",
       "2  1850  0.780791  \n",
       "3  1856  0.835407  \n",
       "4  1897  0.784087  "
      ]
     },
     "execution_count": 88,
     "metadata": {},
     "output_type": "execute_result"
    }
   ],
   "source": [
    "history = pd.read_csv(histories[2], index_col=0)\n",
    "history = history.dropna()\n",
    "history = pd.merge(history, baseline, left_on='tournament_id', right_on='id')\n",
    "print(len(history))\n",
    "history.head()"
   ]
  },
  {
   "cell_type": "code",
   "execution_count": 91,
   "metadata": {},
   "outputs": [
    {
     "data": {
      "text/plain": [
       "count    3594.000000\n",
       "mean        0.757585\n",
       "std         0.143550\n",
       "min        -0.500000\n",
       "25%         0.714286\n",
       "50%         0.791947\n",
       "75%         0.840448\n",
       "max         1.000000\n",
       "Name: correlation_before, dtype: float64"
      ]
     },
     "execution_count": 91,
     "metadata": {},
     "output_type": "execute_result"
    }
   ],
   "source": [
    "history.correlation_before.describe()"
   ]
  },
  {
   "cell_type": "code",
   "execution_count": 50,
   "metadata": {},
   "outputs": [
    {
     "data": {
      "text/plain": [
       "count    3594.000000\n",
       "mean        0.801726\n",
       "std         0.140762\n",
       "min        -1.000000\n",
       "25%         0.765572\n",
       "50%         0.841888\n",
       "75%         0.883326\n",
       "max         1.000000\n",
       "Name: corr, dtype: float64"
      ]
     },
     "execution_count": 50,
     "metadata": {},
     "output_type": "execute_result"
    }
   ],
   "source": [
    "history['corr'].describe()"
   ]
  },
  {
   "cell_type": "code",
   "execution_count": null,
   "metadata": {},
   "outputs": [],
   "source": []
  },
  {
   "cell_type": "code",
   "execution_count": 54,
   "metadata": {},
   "outputs": [
    {
     "data": {
      "image/png": "[encoded data removed]",
      "text/plain": [
       "<Figure size 432x288 with 1 Axes>"
      ]
     },
     "metadata": {
      "needs_background": "light"
     },
     "output_type": "display_data"
    }
   ],
   "source": [
    "# plt.plot(history.epoch, history.correlation_before)\n",
    "roll = 40\n",
    "plt.plot(history.epoch, history.correlation_before.rolling(roll).mean(), label='model')\n",
    "plt.plot(history.epoch, history['corr'].rolling(roll).mean(), label='baseline')\n",
    "plt.legend()\n",
    "plt.show()"
   ]
  },
  {
   "cell_type": "code",
   "execution_count": null,
   "metadata": {},
   "outputs": [],
   "source": []
  }
 ],
 "metadata": {
  "kernelspec": {
   "display_name": "peenv (conda)",
   "language": "python",
   "name": "peenv36"
  },
  "language_info": {
   "codemirror_mode": {
    "name": "ipython",
    "version": 3
   },
   "file_extension": ".py",
   "mimetype": "text/x-python",
   "name": "python",
   "nbconvert_exporter": "python",
   "pygments_lexer": "ipython3",
   "version": "3.7.4"
  },
  "toc": {
   "base_numbering": 1,
   "nav_menu": {},
   "number_sections": true,
   "sideBar": true,
   "skip_h1_title": false,
   "title_cell": "Table of Contents",
   "title_sidebar": "Contents",
   "toc_cell": false,
   "toc_position": {},
   "toc_section_display": true,
   "toc_window_display": true
  }
 },
 "nbformat": 4,
 "nbformat_minor": 4
}
